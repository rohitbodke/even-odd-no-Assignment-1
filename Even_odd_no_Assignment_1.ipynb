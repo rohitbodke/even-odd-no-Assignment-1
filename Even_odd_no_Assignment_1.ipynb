{
  "nbformat": 4,
  "nbformat_minor": 0,
  "metadata": {
    "colab": {
      "provenance": [],
      "authorship_tag": "ABX9TyP2LiEoIC47BvvOMz8lIDL2",
      "include_colab_link": true
    },
    "kernelspec": {
      "name": "python3",
      "display_name": "Python 3"
    },
    "language_info": {
      "name": "python"
    }
  },
  "cells": [
    {
      "cell_type": "markdown",
      "metadata": {
        "id": "view-in-github",
        "colab_type": "text"
      },
      "source": [
        "<a href=\"https://colab.research.google.com/github/rohitbodke/even-odd-no-Assignment-1/blob/main/Even_odd_no_Assignment_1.ipynb\" target=\"_parent\"><img src=\"https://colab.research.google.com/assets/colab-badge.svg\" alt=\"Open In Colab\"/></a>"
      ]
    },
    {
      "cell_type": "code",
      "execution_count": 2,
      "metadata": {
        "colab": {
          "base_uri": "https://localhost:8080/"
        },
        "id": "-KvQqw-jtPMD",
        "outputId": "717e6243-e129-48aa-8589-4bb68a33c31e"
      },
      "outputs": [
        {
          "output_type": "stream",
          "name": "stdout",
          "text": [
            "inter the number needed9\n",
            "total even number: 4\n",
            "total odd number: 5\n"
          ]
        }
      ],
      "source": [
        "num = int(input(\"inter the number needed\"))\n",
        "even_count = 0\n",
        "odd_count = 0\n",
        "for i in range(num):\n",
        "  if not i%2 ==0:\n",
        "    even_count +=1\n",
        "  else:\n",
        "    odd_count += 1\n",
        "print('total even number:',even_count)\n",
        "print('total odd number:',odd_count)"
      ]
    }
  ]
}